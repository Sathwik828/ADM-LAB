{
  "nbformat": 4,
  "nbformat_minor": 0,
  "metadata": {
    "colab": {
      "provenance": [],
      "authorship_tag": "ABX9TyNt+0ezrE4jjpKuOMvpO5iU",
      "include_colab_link": true
    },
    "kernelspec": {
      "name": "python3",
      "display_name": "Python 3"
    },
    "language_info": {
      "name": "python"
    }
  },
  "cells": [
    {
      "cell_type": "markdown",
      "metadata": {
        "id": "view-in-github",
        "colab_type": "text"
      },
      "source": [
        "<a href=\"https://colab.research.google.com/github/Sathwik828/ADM-LAB/blob/main/Untitled1.ipynb\" target=\"_parent\"><img src=\"https://colab.research.google.com/assets/colab-badge.svg\" alt=\"Open In Colab\"/></a>"
      ]
    },
    {
      "cell_type": "code",
      "execution_count": 1,
      "metadata": {
        "id": "R6PSUzLZY55k"
      },
      "outputs": [],
      "source": [
        "import pandas as pd\n",
        "import numpy as np\n",
        "from sklearn.preprocessing import MinMaxScaler, StandardScaler"
      ]
    },
    {
      "cell_type": "code",
      "source": [
        "# Load dataset\n",
        "df = pd.read_csv(\"/content/employee_data.csv\")  # Replace with your actual dataset file\n",
        "print(\"Original Dataset:\")\n",
        "print(df.head())"
      ],
      "metadata": {
        "colab": {
          "base_uri": "https://localhost:8080/"
        },
        "id": "kM8EKKeUZSLm",
        "outputId": "64051ae8-3c69-4856-b335-7ca54dd32c1e"
      },
      "execution_count": 2,
      "outputs": [
        {
          "output_type": "stream",
          "name": "stdout",
          "text": [
            "Original Dataset:\n",
            "   Employee_ID   Age    Salary  Job_Satisfaction  Work_Hours_Per_Week\n",
            "0         1001  50.0  108953.0               9.0                   36\n",
            "1         1002  36.0   82995.0               8.0                   59\n",
            "2         1003  29.0   70757.0               2.0                   30\n",
            "3         1004  42.0   39692.0               1.0                   30\n",
            "4         1005  40.0   75758.0               7.0                   54\n"
          ]
        }
      ]
    },
    {
      "cell_type": "code",
      "source": [
        "# Handling missing values\n",
        "df['Age'].fillna(df['Age'].mean(), inplace=True)\n",
        "df['Salary'].fillna(df['Salary'].median(), inplace=True)\n",
        "df['Job_Satisfaction'].fillna(df['Job_Satisfaction'].mode()[0], inplace=True)\n",
        "df['Work_Hours_Per_Week'].fillna(df['Work_Hours_Per_Week'].mean(), inplace=True)\n"
      ],
      "metadata": {
        "colab": {
          "base_uri": "https://localhost:8080/"
        },
        "id": "xH9Joj5dZmaF",
        "outputId": "4c02971e-a5dc-4a34-b3b2-0cc2a5980f24"
      },
      "execution_count": 4,
      "outputs": [
        {
          "output_type": "stream",
          "name": "stderr",
          "text": [
            "<ipython-input-4-d613ea080a0f>:2: FutureWarning: A value is trying to be set on a copy of a DataFrame or Series through chained assignment using an inplace method.\n",
            "The behavior will change in pandas 3.0. This inplace method will never work because the intermediate object on which we are setting values always behaves as a copy.\n",
            "\n",
            "For example, when doing 'df[col].method(value, inplace=True)', try using 'df.method({col: value}, inplace=True)' or df[col] = df[col].method(value) instead, to perform the operation inplace on the original object.\n",
            "\n",
            "\n",
            "  df['Age'].fillna(df['Age'].mean(), inplace=True)\n",
            "<ipython-input-4-d613ea080a0f>:3: FutureWarning: A value is trying to be set on a copy of a DataFrame or Series through chained assignment using an inplace method.\n",
            "The behavior will change in pandas 3.0. This inplace method will never work because the intermediate object on which we are setting values always behaves as a copy.\n",
            "\n",
            "For example, when doing 'df[col].method(value, inplace=True)', try using 'df.method({col: value}, inplace=True)' or df[col] = df[col].method(value) instead, to perform the operation inplace on the original object.\n",
            "\n",
            "\n",
            "  df['Salary'].fillna(df['Salary'].median(), inplace=True)\n",
            "<ipython-input-4-d613ea080a0f>:4: FutureWarning: A value is trying to be set on a copy of a DataFrame or Series through chained assignment using an inplace method.\n",
            "The behavior will change in pandas 3.0. This inplace method will never work because the intermediate object on which we are setting values always behaves as a copy.\n",
            "\n",
            "For example, when doing 'df[col].method(value, inplace=True)', try using 'df.method({col: value}, inplace=True)' or df[col] = df[col].method(value) instead, to perform the operation inplace on the original object.\n",
            "\n",
            "\n",
            "  df['Job_Satisfaction'].fillna(df['Job_Satisfaction'].mode()[0], inplace=True)\n",
            "<ipython-input-4-d613ea080a0f>:5: FutureWarning: A value is trying to be set on a copy of a DataFrame or Series through chained assignment using an inplace method.\n",
            "The behavior will change in pandas 3.0. This inplace method will never work because the intermediate object on which we are setting values always behaves as a copy.\n",
            "\n",
            "For example, when doing 'df[col].method(value, inplace=True)', try using 'df.method({col: value}, inplace=True)' or df[col] = df[col].method(value) instead, to perform the operation inplace on the original object.\n",
            "\n",
            "\n",
            "  df['Work_Hours_Per_Week'].fillna(df['Work_Hours_Per_Week'].mean(), inplace=True)\n"
          ]
        }
      ]
    },
    {
      "cell_type": "code",
      "source": [
        "# Min-Max Scaling\n",
        "scaler = MinMaxScaler()\n",
        "df[['Age_Scaled', 'Salary_Scaled']] = scaler.fit_transform(df[['Age', 'Salary']])"
      ],
      "metadata": {
        "id": "uH-fYJYTZpBI"
      },
      "execution_count": 5,
      "outputs": []
    },
    {
      "cell_type": "code",
      "source": [
        "# Manual Min-Max Scaling\n",
        "def min_max_scaling(column):\n",
        "    return (column - column.min()) / (column.max() - column.min())\n",
        "df['Age_Scaled_Manual'] = min_max_scaling(df['Age'])\n",
        "df['Salary_Scaled_Manual'] = min_max_scaling(df['Salary'])\n"
      ],
      "metadata": {
        "id": "xEK3wVw_ZtOA"
      },
      "execution_count": 6,
      "outputs": []
    },
    {
      "cell_type": "code",
      "source": [
        "# Standardization (Z-score normalization)\n",
        "std_scaler = StandardScaler()\n",
        "df[['Job_Satisfaction_Std', 'Work_Hours_Std']] = std_scaler.fit_transform(df[['Job_Satisfaction', 'Work_Hours_Per_Week']])"
      ],
      "metadata": {
        "id": "5Ib9il_SZwtP"
      },
      "execution_count": 7,
      "outputs": []
    },
    {
      "cell_type": "code",
      "source": [
        "# Manual Standardization\n",
        "def z_score_normalization(column):\n",
        "    return (column - column.mean()) / column.std()\n",
        "df['Job_Satisfaction_Std_Manual'] = z_score_normalization(df['Job_Satisfaction'])\n",
        "df['Work_Hours_Std_Manual'] = z_score_normalization(df['Work_Hours_Per_Week'])"
      ],
      "metadata": {
        "id": "pMfntiFlZ3e1"
      },
      "execution_count": 8,
      "outputs": []
    },
    {
      "cell_type": "code",
      "source": [
        "# Display dataset after preprocessing\n",
        "print(\"\\nPreprocessed Dataset:\")\n",
        "print(df.head())"
      ],
      "metadata": {
        "colab": {
          "base_uri": "https://localhost:8080/"
        },
        "id": "jiIsNOLnZ8IG",
        "outputId": "dd637abe-f542-404d-b9d8-05b63c5daa6a"
      },
      "execution_count": 9,
      "outputs": [
        {
          "output_type": "stream",
          "name": "stdout",
          "text": [
            "\n",
            "Preprocessed Dataset:\n",
            "   Employee_ID   Age    Salary  Job_Satisfaction  Work_Hours_Per_Week  \\\n",
            "0         1001  50.0  108953.0               9.0                   36   \n",
            "1         1002  36.0   82995.0               8.0                   59   \n",
            "2         1003  29.0   70757.0               2.0                   30   \n",
            "3         1004  42.0   39692.0               1.0                   30   \n",
            "4         1005  40.0   75758.0               7.0                   54   \n",
            "\n",
            "   Age_Scaled  Salary_Scaled  Age_Scaled_Manual  Salary_Scaled_Manual  \\\n",
            "0    0.750000       0.877708           0.750000              0.877708   \n",
            "1    0.361111       0.585375           0.361111              0.585375   \n",
            "2    0.166667       0.447554           0.166667              0.447554   \n",
            "3    0.527778       0.097707           0.527778              0.097707   \n",
            "4    0.472222       0.503874           0.472222              0.503874   \n",
            "\n",
            "   Job_Satisfaction_Std  Work_Hours_Std  Job_Satisfaction_Std_Manual  \\\n",
            "0              1.275854       -0.905969                     1.263031   \n",
            "1              0.872103        1.483629                     0.863338   \n",
            "2             -1.550405       -1.529343                    -1.534823   \n",
            "3             -1.954156       -1.529343                    -1.934516   \n",
            "4              0.468352        0.964151                     0.463644   \n",
            "\n",
            "   Work_Hours_Std_Manual  \n",
            "0              -0.896864  \n",
            "1               1.468717  \n",
            "2              -1.513972  \n",
            "3              -1.513972  \n",
            "4               0.954461  \n"
          ]
        }
      ]
    }
  ]
}